{
 "cells": [
  {
   "cell_type": "code",
   "execution_count": 54,
   "metadata": {},
   "outputs": [
    {
     "data": {
      "application/vnd.jupyter.widget-view+json": {
       "model_id": "2011e8d8b9394e5d882c1b7a14cd3ecc",
       "version_major": 2,
       "version_minor": 0
      },
      "text/plain": [
       "VBox(children=(interactive(children=(Output(),), _dom_classes=('widget-interact',)), interactive(children=(Flo…"
      ]
     },
     "metadata": {},
     "output_type": "display_data"
    }
   ],
   "source": [
    "# nbi:hide_in\n",
    "from ipywidgets import interactive, interact, FloatSlider\n",
    "from ipywidgets.embed import embed_minimal_html\n",
    "# import matplotlib.pyplot as plt\n",
    "import numpy as np\n",
    "import nbinteract as nbi\n",
    "\n",
    "\n",
    "options = {\n",
    "    'xlabel': 'x',\n",
    "    'ylabel': 'y',\n",
    "    'ylim': (-4, 4),\n",
    "    'xlim': (-4, 4),\n",
    "    'animation_duration': 250\n",
    "}\n",
    "\n",
    "x = np.linspace(-5, 5, num=30)\n",
    "\n",
    "def f(x, m, b):\n",
    "    return (x, m * x + b)\n",
    "\n",
    "fig = nbi.Figure(options=options)\n",
    "\n",
    "fig.scatter(x,x*x)\n",
    "fig.line(x, f, m=(-2.0, 2.0, .2), b=(-3, 3, 0.5))\n"
   ]
  },
  {
   "cell_type": "code",
   "execution_count": null,
   "metadata": {},
   "outputs": [],
   "source": [
    "plt."
   ]
  }
 ],
 "metadata": {
  "kernelspec": {
   "display_name": "Python 3",
   "language": "python",
   "name": "python3"
  },
  "language_info": {
   "codemirror_mode": {
    "name": "ipython",
    "version": 3
   },
   "file_extension": ".py",
   "mimetype": "text/x-python",
   "name": "python",
   "nbconvert_exporter": "python",
   "pygments_lexer": "ipython3",
   "version": "3.7.1"
  }
 },
 "nbformat": 4,
 "nbformat_minor": 2
}

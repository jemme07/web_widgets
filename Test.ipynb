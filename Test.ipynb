{
 "cells": [
  {
   "cell_type": "code",
   "execution_count": 1,
   "metadata": {},
   "outputs": [
    {
     "data": {
      "application/vnd.jupyter.widget-view+json": {
       "model_id": "8721bb53d4c047cea0001e1ea792ce3f",
       "version_major": 2,
       "version_minor": 0
      },
      "text/plain": [
       "interactive(children=(FloatSlider(value=0.0, description='m', max=2.0, min=-2.0, step=0.2), FloatSlider(value=…"
      ]
     },
     "metadata": {},
     "output_type": "display_data"
    },
    {
     "data": {
      "text/plain": [
       "<Figure size 640x480 with 0 Axes>"
      ]
     },
     "metadata": {},
     "output_type": "display_data"
    }
   ],
   "source": [
    "# %matplotlib inline\n",
    "from ipywidgets import interactive, interact, FloatSlider\n",
    "from ipywidgets.embed import embed_minimal_html\n",
    "import matplotlib.pyplot as plt\n",
    "import numpy as np\n",
    "# from jupyterthemes import jtplot\n",
    "# jtplot.reset()\n",
    "# import latexify\n",
    "# latexify.latexify(columns=2)\n",
    "# import seaborn as sns\n",
    "\n",
    "fig = plt.figure(0)\n",
    "\n",
    "def f(m, b):\n",
    "#     global fig\n",
    "    x = np.linspace(-10, 10, num=10)\n",
    "    plt.plot(x, m * x + b)\n",
    "    plt.ylim(-4, 4)\n",
    "    plt.xlim(-4, 4)\n",
    "    plt.xlabel('$x$')\n",
    "    plt.ylabel('$y$')\n",
    "    plt.show()\n",
    "\n",
    "interactive_plot = interactive(f, m=FloatSlider(min=-2.0, max=2.0, step=.2, continuous_update=True), b=FloatSlider(min=-3, max=3, step=0.5, continuous_update=False))\n",
    "# output = interactive_plot.children[-1]\n",
    "# output.layout.height = '500px'\n",
    "interactive_plot\n",
    "# embed_minimal_html('export.html', views=[interactive_plot], title='Widgets export')"
   ]
  },
  {
   "cell_type": "code",
   "execution_count": null,
   "metadata": {},
   "outputs": [],
   "source": []
  }
 ],
 "metadata": {
  "kernelspec": {
   "display_name": "Python 3",
   "language": "python",
   "name": "python3"
  },
  "language_info": {
   "codemirror_mode": {
    "name": "ipython",
    "version": 3
   },
   "file_extension": ".py",
   "mimetype": "text/x-python",
   "name": "python",
   "nbconvert_exporter": "python",
   "pygments_lexer": "ipython3",
   "version": "3.7.1"
  }
 },
 "nbformat": 4,
 "nbformat_minor": 2
}

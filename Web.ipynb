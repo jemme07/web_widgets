{
 "cells": [
  {
   "cell_type": "code",
   "execution_count": 34,
   "metadata": {},
   "outputs": [],
   "source": [
    "# nbi:hide_in\n",
    "import numpy as np\n",
    "import matplotlib.pyplot as plt\n",
    "import ipywidgets as ipw\n",
    "def f(m, b):\n",
    "    x = np.linspace(-5, 5, num=20)\n",
    "    plt.scatter(x,x**2)\n",
    "    plt.plot(x, m * x + b, c='r', lw=3)\n",
    "    plt.ylim(-4, 4)\n",
    "    plt.xlim(-4, 4)\n",
    "    plt.xlabel('$x$')\n",
    "    plt.ylabel('$y$')"
   ]
  },
  {
   "cell_type": "code",
   "execution_count": 36,
   "metadata": {},
   "outputs": [
    {
     "data": {
      "application/vnd.jupyter.widget-view+json": {
       "model_id": "0ff67d424a64451d9ac11a8a8a920732",
       "version_major": 2,
       "version_minor": 0
      },
      "text/plain": [
       "interactive(children=(FloatSlider(value=0.0, description='m', max=2.0, min=-2.0, step=0.2), FloatSlider(value=…"
      ]
     },
     "metadata": {},
     "output_type": "display_data"
    }
   ],
   "source": [
    "# nbi:hide_in\n",
    "plot = ipw.interact(f, m=ipw.FloatSlider(min=-2.0, max=2.0, step=.2, continuous_update=True), b=ipw.FloatSlider(min=-3, max=3, step=0.5, continuous_update=False))"
   ]
  }
 ],
 "metadata": {
  "kernelspec": {
   "display_name": "Python 3",
   "language": "python",
   "name": "python3"
  },
  "language_info": {
   "codemirror_mode": {
    "name": "ipython",
    "version": 3
   },
   "file_extension": ".py",
   "mimetype": "text/x-python",
   "name": "python",
   "nbconvert_exporter": "python",
   "pygments_lexer": "ipython3",
   "version": "3.7.2"
  },
  "widgets": {
   "application/vnd.jupyter.widget-state+json": {
    "state": {
     "001479d1acbd47e690250b415389d7b0": {
      "model_module": "bqplot",
      "model_module_version": "^0.4.5",
      "model_name": "AxisModel",
      "state": {
       "label": "y",
       "orientation": "vertical",
       "scale": "IPY_MODEL_e1528512b83948e28a75034a88004f92",
       "side": "left",
       "tick_values": {
        "type": null,
        "values": null
       }
      }
     },
     "004b7e9f169d48328297db885786e6c3": {
      "model_module": "@jupyter-widgets/base",
      "model_module_version": "1.1.0",
      "model_name": "LayoutModel",
      "state": {}
     },
     "004d76dc952f4f97b0588d7fcfa65f11": {
      "model_module": "bqplot",
      "model_module_version": "^0.4.5",
      "model_name": "ScatterModel",
      "state": {
       "color": {
        "type": null,
        "values": null
       },
       "colors": [
        "#475A77"
       ],
       "display_legend": false,
       "names": {
        "type": null,
        "values": null
       },
       "opacity": {
        "type": null,
        "values": null
       },
       "rotation": {
        "type": null,
        "values": null
       },
       "scales": {
        "x": "IPY_MODEL_5f11a7b2234c4905a988826c1183ecf1",
        "y": "IPY_MODEL_b9c5d469e2ec468db5d870a46c25154d"
       },
       "scales_metadata": {
        "color": {
         "dimension": "color"
        },
        "opacity": {
         "dimension": "opacity"
        },
        "rotation": {
         "dimension": "rotation"
        },
        "size": {
         "dimension": "size"
        },
        "skew": {
         "dimension": "skew"
        },
        "x": {
         "dimension": "x",
         "orientation": "horizontal"
        },
        "y": {
         "dimension": "y",
         "orientation": "vertical"
        }
       },
       "selected": [],
       "size": {
        "type": null,
        "values": null
       },
       "skew": {
        "type": null,
        "values": null
       },
       "stroke": "#475A77",
       "x": {
        "type": "float",
        "values": [
         -5,
         -4.655172413793103,
         -4.310344827586206,
         -3.9655172413793105,
         -3.6206896551724137,
         -3.275862068965517,
         -2.9310344827586206,
         -2.586206896551724,
         -2.2413793103448274,
         -1.8965517241379306,
         -1.5517241379310343,
         -1.206896551724138,
         -0.8620689655172411,
         -0.5172413793103443,
         -0.1724137931034484,
         0.1724137931034484,
         0.5172413793103452,
         0.862068965517242,
         1.2068965517241388,
         1.5517241379310347,
         1.8965517241379315,
         2.2413793103448283,
         2.586206896551724,
         2.931034482758621,
         3.275862068965518,
         3.6206896551724146,
         3.9655172413793114,
         4.310344827586208,
         4.655172413793103,
         5
        ]
       },
       "y": {
        "type": "float",
        "values": [
         25,
         21.670630202140305,
         18.579072532699165,
         15.725326991676576,
         13.109393579072533,
         10.731272294887036,
         8.590963139120094,
         6.6884661117717,
         5.023781212841854,
         3.596908442330557,
         2.4078478002378114,
         1.4565992865636146,
         0.7431629013079663,
         0.26753864447086745,
         0.02972651605231871,
         0.02972651605231871,
         0.2675386444708684,
         0.7431629013079678,
         1.4565992865636168,
         2.4078478002378128,
         3.5969084423305606,
         5.023781212841858,
         6.6884661117717,
         8.590963139120097,
         10.731272294887043,
         13.109393579072538,
         15.725326991676583,
         18.57907253269918,
         21.670630202140305,
         25
        ]
       }
      }
     },
     "0888aa7756794d5c8fb3c130ce84989d": {
      "model_module": "@jupyter-widgets/base",
      "model_module_version": "1.1.0",
      "model_name": "LayoutModel",
      "state": {}
     },
     "0a85adc3e75244ef88827dcb05a65df2": {
      "model_module": "@jupyter-widgets/output",
      "model_module_version": "1.0.0",
      "model_name": "OutputModel",
      "state": {
       "layout": "IPY_MODEL_3266e97d539c470abb0362274585f65d"
      }
     },
     "113aa47174f34365938829fdf0702310": {
      "model_module": "@jupyter-widgets/controls",
      "model_module_version": "1.4.0",
      "model_name": "FloatSliderModel",
      "state": {
       "description": "b",
       "layout": "IPY_MODEL_30d99ad4aced479c9153fd967a5d0df1",
       "max": 3,
       "min": -3,
       "step": 0.5,
       "style": "IPY_MODEL_22557feec6fe4483a838f36e7c20fd0f"
      }
     },
     "124c9c2cb68a4a7a8376c36e68de6b0c": {
      "model_module": "@jupyter-widgets/base",
      "model_module_version": "1.1.0",
      "model_name": "LayoutModel",
      "state": {}
     },
     "13b0b176b78e4baf9b796dd4b4a0136a": {
      "model_module": "@jupyter-widgets/controls",
      "model_module_version": "1.4.0",
      "model_name": "FloatSliderModel",
      "state": {
       "description": "b",
       "layout": "IPY_MODEL_2e758ff60ebc486198a5d136c34289ff",
       "max": 3,
       "min": -3,
       "step": 0.5,
       "style": "IPY_MODEL_a34acc2b0d634b259cfddd941a4e9eac"
      }
     },
     "1b1694ebc8e24b6d9d3937e73701c031": {
      "model_module": "@jupyter-widgets/controls",
      "model_module_version": "1.4.0",
      "model_name": "VBoxModel",
      "state": {
       "children": [
        "IPY_MODEL_d540fa89c2024d7aaaaf4a6495c071b2",
        "IPY_MODEL_85416473af994cf69866898b7461f933",
        "IPY_MODEL_9f6b50e08dca478db625af7a8414b5db"
       ],
       "layout": "IPY_MODEL_5c3dfa6093ee4b71a0a5e4a66e7411d2"
      }
     },
     "1b779ee28d2242dc9a2e4de243a70935": {
      "model_module": "@jupyter-widgets/controls",
      "model_module_version": "1.4.0",
      "model_name": "VBoxModel",
      "state": {
       "children": [
        "IPY_MODEL_3db360278179479f81074187a226f039",
        "IPY_MODEL_e34d3d67f26e4872a2a441d589b460e5",
        "IPY_MODEL_e321aaaadcf740cc9ec17430d460d9d5"
       ],
       "layout": "IPY_MODEL_004b7e9f169d48328297db885786e6c3"
      }
     },
     "1d6d0be5fa754ec783c1d1b7fdd64c38": {
      "model_module": "bqplot",
      "model_module_version": "^0.4.5",
      "model_name": "LinearScaleModel",
      "state": {
       "allow_padding": false,
       "max": 1,
       "min": 0,
       "stabilized": false
      }
     },
     "22557feec6fe4483a838f36e7c20fd0f": {
      "model_module": "@jupyter-widgets/controls",
      "model_module_version": "1.4.0",
      "model_name": "SliderStyleModel",
      "state": {
       "description_width": ""
      }
     },
     "288b9373dc264a6582dc4d48611eaf58": {
      "model_module": "@jupyter-widgets/base",
      "model_module_version": "1.1.0",
      "model_name": "LayoutModel",
      "state": {}
     },
     "2b00a0e2a185477abbacab1bc9f325c9": {
      "model_module": "@jupyter-widgets/output",
      "model_module_version": "1.0.0",
      "model_name": "OutputModel",
      "state": {
       "layout": "IPY_MODEL_62c8262ba4704bdd8b931fb9da230896"
      }
     },
     "2e758ff60ebc486198a5d136c34289ff": {
      "model_module": "@jupyter-widgets/base",
      "model_module_version": "1.1.0",
      "model_name": "LayoutModel",
      "state": {}
     },
     "30d99ad4aced479c9153fd967a5d0df1": {
      "model_module": "@jupyter-widgets/base",
      "model_module_version": "1.1.0",
      "model_name": "LayoutModel",
      "state": {}
     },
     "3266e97d539c470abb0362274585f65d": {
      "model_module": "@jupyter-widgets/base",
      "model_module_version": "1.1.0",
      "model_name": "LayoutModel",
      "state": {}
     },
     "34f8cc1f1900420c8d41f00ef0e2714e": {
      "model_module": "@jupyter-widgets/controls",
      "model_module_version": "1.4.0",
      "model_name": "VBoxModel",
      "state": {
       "children": [
        "IPY_MODEL_d540fa89c2024d7aaaaf4a6495c071b2",
        "IPY_MODEL_9f6b50e08dca478db625af7a8414b5db"
       ],
       "layout": "IPY_MODEL_5e14cccd87794c07b4136c47bdc719b9"
      }
     },
     "36e44684863147c7b2da2612393693af": {
      "model_module": "@jupyter-widgets/controls",
      "model_module_version": "1.4.0",
      "model_name": "SliderStyleModel",
      "state": {
       "description_width": ""
      }
     },
     "3db360278179479f81074187a226f039": {
      "model_module": "@jupyter-widgets/controls",
      "model_module_version": "1.4.0",
      "model_name": "VBoxModel",
      "state": {
       "_dom_classes": [
        "widget-interact"
       ],
       "children": [
        "IPY_MODEL_6421a751f54041f680cc3b1951f9c9c1"
       ],
       "layout": "IPY_MODEL_c560f8bee15f4c4eb1ca43b8e5fed2e9"
      }
     },
     "44f4b987fe1246db890d044207130454": {
      "model_module": "bqplot",
      "model_module_version": "^0.4.5",
      "model_name": "LinearScaleModel",
      "state": {
       "allow_padding": false,
       "max": 1,
       "min": 0,
       "stabilized": false
      }
     },
     "494b6e4c3244410182cf0a450ad76240": {
      "model_module": "bqplot",
      "model_module_version": "^0.4.5",
      "model_name": "LinearScaleModel",
      "state": {
       "allow_padding": false,
       "max": 1,
       "min": 0,
       "stabilized": false
      }
     },
     "49b16f0a9c03434586fb1a96ef0e3d2e": {
      "model_module": "bqplot",
      "model_module_version": "^0.4.5",
      "model_name": "LinearScaleModel",
      "state": {
       "allow_padding": false,
       "max": 1,
       "min": 0,
       "stabilized": false
      }
     },
     "59fc1c70b41c495f80d17a88fc69ff75": {
      "model_module": "@jupyter-widgets/base",
      "model_module_version": "1.1.0",
      "model_name": "LayoutModel",
      "state": {}
     },
     "5bfc002f35af40388ffa55580b3a94e2": {
      "model_module": "@jupyter-widgets/controls",
      "model_module_version": "1.4.0",
      "model_name": "VBoxModel",
      "state": {
       "children": [
        "IPY_MODEL_85416473af994cf69866898b7461f933",
        "IPY_MODEL_9f6b50e08dca478db625af7a8414b5db"
       ],
       "layout": "IPY_MODEL_59fc1c70b41c495f80d17a88fc69ff75"
      }
     },
     "5c3dfa6093ee4b71a0a5e4a66e7411d2": {
      "model_module": "@jupyter-widgets/base",
      "model_module_version": "1.1.0",
      "model_name": "LayoutModel",
      "state": {}
     },
     "5e14cccd87794c07b4136c47bdc719b9": {
      "model_module": "@jupyter-widgets/base",
      "model_module_version": "1.1.0",
      "model_name": "LayoutModel",
      "state": {}
     },
     "5f11a7b2234c4905a988826c1183ecf1": {
      "model_module": "bqplot",
      "model_module_version": "^0.4.5",
      "model_name": "LinearScaleModel",
      "state": {
       "max": 4,
       "min": -4,
       "stabilized": false
      }
     },
     "62c8262ba4704bdd8b931fb9da230896": {
      "model_module": "@jupyter-widgets/base",
      "model_module_version": "1.1.0",
      "model_name": "LayoutModel",
      "state": {}
     },
     "636329c7ad124f4891ff216f6156ff89": {
      "model_module": "@jupyter-widgets/controls",
      "model_module_version": "1.4.0",
      "model_name": "FloatSliderModel",
      "state": {
       "description": "m",
       "layout": "IPY_MODEL_f29f6c8686c5481d940da029febd8044",
       "max": 2,
       "min": -2,
       "step": 0.2,
       "style": "IPY_MODEL_36e44684863147c7b2da2612393693af"
      }
     },
     "6421a751f54041f680cc3b1951f9c9c1": {
      "model_module": "@jupyter-widgets/output",
      "model_module_version": "1.0.0",
      "model_name": "OutputModel",
      "state": {
       "layout": "IPY_MODEL_288b9373dc264a6582dc4d48611eaf58"
      }
     },
     "6cfb4200a2314dddb55c5e2c95af03de": {
      "model_module": "bqplot",
      "model_module_version": "^0.4.5",
      "model_name": "LinesModel",
      "state": {
       "color": {
        "type": null,
        "values": null
       },
       "colors": [
        "#475A77"
       ],
       "display_legend": false,
       "fill_colors": [],
       "labels": [
        "C1",
        "C2"
       ],
       "scales": {
        "x": "IPY_MODEL_f3904e860dc04852ab992fb3f2407c91",
        "y": "IPY_MODEL_e1528512b83948e28a75034a88004f92"
       },
       "selected": [],
       "x": {
        "type": "float",
        "values": [
         -5,
         -4.655172413793103,
         -4.310344827586206,
         -3.9655172413793105,
         -3.6206896551724137,
         -3.275862068965517,
         -2.9310344827586206,
         -2.586206896551724,
         -2.2413793103448274,
         -1.8965517241379306,
         -1.5517241379310343,
         -1.206896551724138,
         -0.8620689655172411,
         -0.5172413793103443,
         -0.1724137931034484,
         0.1724137931034484,
         0.5172413793103452,
         0.862068965517242,
         1.2068965517241388,
         1.5517241379310347,
         1.8965517241379315,
         2.2413793103448283,
         2.586206896551724,
         2.931034482758621,
         3.275862068965518,
         3.6206896551724146,
         3.9655172413793114,
         4.310344827586208,
         4.655172413793103,
         5
        ]
       },
       "y": {
        "type": "float",
        "values": [
         [
          -5,
          -4.655172413793103,
          -4.310344827586206,
          -3.9655172413793105,
          -3.6206896551724137,
          -3.275862068965517,
          -2.9310344827586206,
          -2.586206896551724,
          -2.2413793103448274,
          -1.8965517241379306,
          -1.5517241379310343,
          -1.206896551724138,
          -0.8620689655172411,
          -0.5172413793103443,
          -0.1724137931034484,
          0.1724137931034484,
          0.5172413793103452,
          0.862068965517242,
          1.2068965517241388,
          1.5517241379310347,
          1.8965517241379315,
          2.2413793103448283,
          2.586206896551724,
          2.931034482758621,
          3.275862068965518,
          3.6206896551724146,
          3.9655172413793114,
          4.310344827586208,
          4.655172413793103,
          5
         ],
         [
          0,
          0,
          0,
          0,
          0,
          0,
          0,
          0,
          0,
          0,
          0,
          0,
          0,
          0,
          0,
          0,
          0,
          0,
          0,
          0,
          0,
          0,
          0,
          0,
          0,
          0,
          0,
          0,
          0,
          0
         ]
        ]
       }
      }
     },
     "7d11198490c34054b6df47b0b9c9cb6b": {
      "model_module": "@jupyter-widgets/controls",
      "model_module_version": "1.4.0",
      "model_name": "FloatSliderModel",
      "state": {
       "description": "m",
       "layout": "IPY_MODEL_90a90aeebf5b4d6a9139c398d4ca6fbd",
       "max": 2,
       "min": -2,
       "step": 0.2,
       "style": "IPY_MODEL_b30ab620a0bf412fb77cd483fa296650"
      }
     },
     "85416473af994cf69866898b7461f933": {
      "model_module": "@jupyter-widgets/controls",
      "model_module_version": "1.4.0",
      "model_name": "VBoxModel",
      "state": {
       "_dom_classes": [
        "widget-interact"
       ],
       "children": [
        "IPY_MODEL_7d11198490c34054b6df47b0b9c9cb6b",
        "IPY_MODEL_13b0b176b78e4baf9b796dd4b4a0136a",
        "IPY_MODEL_0a85adc3e75244ef88827dcb05a65df2"
       ],
       "layout": "IPY_MODEL_124c9c2cb68a4a7a8376c36e68de6b0c"
      }
     },
     "90a90aeebf5b4d6a9139c398d4ca6fbd": {
      "model_module": "@jupyter-widgets/base",
      "model_module_version": "1.1.0",
      "model_name": "LayoutModel",
      "state": {}
     },
     "9860c8fe2152441f993e0191e54d9bd1": {
      "model_module": "@jupyter-widgets/controls",
      "model_module_version": "1.4.0",
      "model_name": "VBoxModel",
      "state": {
       "children": [
        "IPY_MODEL_3db360278179479f81074187a226f039",
        "IPY_MODEL_e321aaaadcf740cc9ec17430d460d9d5"
       ],
       "layout": "IPY_MODEL_9d4f93b5fa5c400b8f98c4a5adb56e07"
      }
     },
     "98774a71ed4a408b851f09bd61c1be6d": {
      "model_module": "bqplot",
      "model_module_version": "^0.4.5",
      "model_name": "AxisModel",
      "state": {
       "label": "x",
       "scale": "IPY_MODEL_f3904e860dc04852ab992fb3f2407c91",
       "side": "bottom",
       "tick_values": {
        "type": null,
        "values": null
       }
      }
     },
     "9d4f93b5fa5c400b8f98c4a5adb56e07": {
      "model_module": "@jupyter-widgets/base",
      "model_module_version": "1.1.0",
      "model_name": "LayoutModel",
      "state": {}
     },
     "9e79180b6b3f4ff1878dcaab711adc28": {
      "model_module": "@jupyter-widgets/base",
      "model_module_version": "1.1.0",
      "model_name": "LayoutModel",
      "state": {}
     },
     "9f6b50e08dca478db625af7a8414b5db": {
      "model_module": "bqplot",
      "model_module_version": "^0.4.5",
      "model_name": "FigureModel",
      "state": {
       "_dom_classes": [],
       "animation_duration": 250,
       "axes": [
        "IPY_MODEL_98774a71ed4a408b851f09bd61c1be6d",
        "IPY_MODEL_001479d1acbd47e690250b415389d7b0"
       ],
       "layout": "IPY_MODEL_e168b18c75ea4147abefcdadeeb1ec90",
       "marks": [
        "IPY_MODEL_ccf6f0b302e04f18914093d574d3faa0",
        "IPY_MODEL_6cfb4200a2314dddb55c5e2c95af03de"
       ],
       "max_aspect_ratio": 6,
       "scale_x": "IPY_MODEL_1d6d0be5fa754ec783c1d1b7fdd64c38",
       "scale_y": "IPY_MODEL_44f4b987fe1246db890d044207130454"
      }
     },
     "9f87484c268d45f5a1638c0e4a9d23e5": {
      "model_module": "@jupyter-widgets/controls",
      "model_module_version": "1.4.0",
      "model_name": "VBoxModel",
      "state": {
       "children": [
        "IPY_MODEL_e34d3d67f26e4872a2a441d589b460e5",
        "IPY_MODEL_e321aaaadcf740cc9ec17430d460d9d5"
       ],
       "layout": "IPY_MODEL_9e79180b6b3f4ff1878dcaab711adc28"
      }
     },
     "a34acc2b0d634b259cfddd941a4e9eac": {
      "model_module": "@jupyter-widgets/controls",
      "model_module_version": "1.4.0",
      "model_name": "SliderStyleModel",
      "state": {
       "description_width": ""
      }
     },
     "a980b0b4a0c7492f80469104c02b0053": {
      "model_module": "bqplot",
      "model_module_version": "^0.4.5",
      "model_name": "LinesModel",
      "state": {
       "color": {
        "type": null,
        "values": null
       },
       "colors": [
        "#475A77"
       ],
       "display_legend": false,
       "fill_colors": [],
       "labels": [
        "C1",
        "C2"
       ],
       "scales": {
        "x": "IPY_MODEL_5f11a7b2234c4905a988826c1183ecf1",
        "y": "IPY_MODEL_b9c5d469e2ec468db5d870a46c25154d"
       },
       "selected": [],
       "x": {
        "type": "float",
        "values": [
         -5,
         -4.655172413793103,
         -4.310344827586206,
         -3.9655172413793105,
         -3.6206896551724137,
         -3.275862068965517,
         -2.9310344827586206,
         -2.586206896551724,
         -2.2413793103448274,
         -1.8965517241379306,
         -1.5517241379310343,
         -1.206896551724138,
         -0.8620689655172411,
         -0.5172413793103443,
         -0.1724137931034484,
         0.1724137931034484,
         0.5172413793103452,
         0.862068965517242,
         1.2068965517241388,
         1.5517241379310347,
         1.8965517241379315,
         2.2413793103448283,
         2.586206896551724,
         2.931034482758621,
         3.275862068965518,
         3.6206896551724146,
         3.9655172413793114,
         4.310344827586208,
         4.655172413793103,
         5
        ]
       },
       "y": {
        "type": "float",
        "values": [
         [
          -5,
          -4.655172413793103,
          -4.310344827586206,
          -3.9655172413793105,
          -3.6206896551724137,
          -3.275862068965517,
          -2.9310344827586206,
          -2.586206896551724,
          -2.2413793103448274,
          -1.8965517241379306,
          -1.5517241379310343,
          -1.206896551724138,
          -0.8620689655172411,
          -0.5172413793103443,
          -0.1724137931034484,
          0.1724137931034484,
          0.5172413793103452,
          0.862068965517242,
          1.2068965517241388,
          1.5517241379310347,
          1.8965517241379315,
          2.2413793103448283,
          2.586206896551724,
          2.931034482758621,
          3.275862068965518,
          3.6206896551724146,
          3.9655172413793114,
          4.310344827586208,
          4.655172413793103,
          5
         ],
         [
          0,
          0,
          0,
          0,
          0,
          0,
          0,
          0,
          0,
          0,
          0,
          0,
          0,
          0,
          0,
          0,
          0,
          0,
          0,
          0,
          0,
          0,
          0,
          0,
          0,
          0,
          0,
          0,
          0,
          0
         ]
        ]
       }
      }
     },
     "b30ab620a0bf412fb77cd483fa296650": {
      "model_module": "@jupyter-widgets/controls",
      "model_module_version": "1.4.0",
      "model_name": "SliderStyleModel",
      "state": {
       "description_width": ""
      }
     },
     "b9c5d469e2ec468db5d870a46c25154d": {
      "model_module": "bqplot",
      "model_module_version": "^0.4.5",
      "model_name": "LinearScaleModel",
      "state": {
       "max": 4,
       "min": -4,
       "stabilized": false
      }
     },
     "ba3d715854d2459381ee096d917bef0b": {
      "model_module": "@jupyter-widgets/base",
      "model_module_version": "1.1.0",
      "model_name": "LayoutModel",
      "state": {}
     },
     "c19d58eaaa4b4ac3a7055631b044e4e2": {
      "model_module": "bqplot",
      "model_module_version": "^0.4.5",
      "model_name": "AxisModel",
      "state": {
       "label": "x",
       "scale": "IPY_MODEL_5f11a7b2234c4905a988826c1183ecf1",
       "side": "bottom",
       "tick_values": {
        "type": null,
        "values": null
       }
      }
     },
     "c560f8bee15f4c4eb1ca43b8e5fed2e9": {
      "model_module": "@jupyter-widgets/base",
      "model_module_version": "1.1.0",
      "model_name": "LayoutModel",
      "state": {}
     },
     "ccf6f0b302e04f18914093d574d3faa0": {
      "model_module": "bqplot",
      "model_module_version": "^0.4.5",
      "model_name": "ScatterModel",
      "state": {
       "color": {
        "type": null,
        "values": null
       },
       "colors": [
        "#475A77"
       ],
       "display_legend": false,
       "names": {
        "type": null,
        "values": null
       },
       "opacity": {
        "type": null,
        "values": null
       },
       "rotation": {
        "type": null,
        "values": null
       },
       "scales": {
        "x": "IPY_MODEL_f3904e860dc04852ab992fb3f2407c91",
        "y": "IPY_MODEL_e1528512b83948e28a75034a88004f92"
       },
       "scales_metadata": {
        "color": {
         "dimension": "color"
        },
        "opacity": {
         "dimension": "opacity"
        },
        "rotation": {
         "dimension": "rotation"
        },
        "size": {
         "dimension": "size"
        },
        "skew": {
         "dimension": "skew"
        },
        "x": {
         "dimension": "x",
         "orientation": "horizontal"
        },
        "y": {
         "dimension": "y",
         "orientation": "vertical"
        }
       },
       "selected": [],
       "size": {
        "type": null,
        "values": null
       },
       "skew": {
        "type": null,
        "values": null
       },
       "stroke": "#475A77",
       "x": {
        "type": "float",
        "values": [
         -5,
         -4.655172413793103,
         -4.310344827586206,
         -3.9655172413793105,
         -3.6206896551724137,
         -3.275862068965517,
         -2.9310344827586206,
         -2.586206896551724,
         -2.2413793103448274,
         -1.8965517241379306,
         -1.5517241379310343,
         -1.206896551724138,
         -0.8620689655172411,
         -0.5172413793103443,
         -0.1724137931034484,
         0.1724137931034484,
         0.5172413793103452,
         0.862068965517242,
         1.2068965517241388,
         1.5517241379310347,
         1.8965517241379315,
         2.2413793103448283,
         2.586206896551724,
         2.931034482758621,
         3.275862068965518,
         3.6206896551724146,
         3.9655172413793114,
         4.310344827586208,
         4.655172413793103,
         5
        ]
       },
       "y": {
        "type": "float",
        "values": [
         25,
         21.670630202140305,
         18.579072532699165,
         15.725326991676576,
         13.109393579072533,
         10.731272294887036,
         8.590963139120094,
         6.6884661117717,
         5.023781212841854,
         3.596908442330557,
         2.4078478002378114,
         1.4565992865636146,
         0.7431629013079663,
         0.26753864447086745,
         0.02972651605231871,
         0.02972651605231871,
         0.2675386444708684,
         0.7431629013079678,
         1.4565992865636168,
         2.4078478002378128,
         3.5969084423305606,
         5.023781212841858,
         6.6884661117717,
         8.590963139120097,
         10.731272294887043,
         13.109393579072538,
         15.725326991676583,
         18.57907253269918,
         21.670630202140305,
         25
        ]
       }
      }
     },
     "ce66191cfdb74ea3938c3d137eac633d": {
      "model_module": "@jupyter-widgets/base",
      "model_module_version": "1.1.0",
      "model_name": "LayoutModel",
      "state": {}
     },
     "d1ba205f210b4a978d06b585b8f2214c": {
      "model_module": "@jupyter-widgets/base",
      "model_module_version": "1.1.0",
      "model_name": "LayoutModel",
      "state": {
       "min_width": "125px"
      }
     },
     "d32a7d24930045f1bf0f1b7a6c82fd8c": {
      "model_module": "@jupyter-widgets/output",
      "model_module_version": "1.0.0",
      "model_name": "OutputModel",
      "state": {
       "layout": "IPY_MODEL_0888aa7756794d5c8fb3c130ce84989d"
      }
     },
     "d540fa89c2024d7aaaaf4a6495c071b2": {
      "model_module": "@jupyter-widgets/controls",
      "model_module_version": "1.4.0",
      "model_name": "VBoxModel",
      "state": {
       "_dom_classes": [
        "widget-interact"
       ],
       "children": [
        "IPY_MODEL_d32a7d24930045f1bf0f1b7a6c82fd8c"
       ],
       "layout": "IPY_MODEL_ce66191cfdb74ea3938c3d137eac633d"
      }
     },
     "e1528512b83948e28a75034a88004f92": {
      "model_module": "bqplot",
      "model_module_version": "^0.4.5",
      "model_name": "LinearScaleModel",
      "state": {
       "max": 4,
       "min": -4,
       "stabilized": false
      }
     },
     "e168b18c75ea4147abefcdadeeb1ec90": {
      "model_module": "@jupyter-widgets/base",
      "model_module_version": "1.1.0",
      "model_name": "LayoutModel",
      "state": {
       "min_width": "125px"
      }
     },
     "e321aaaadcf740cc9ec17430d460d9d5": {
      "model_module": "bqplot",
      "model_module_version": "^0.4.5",
      "model_name": "FigureModel",
      "state": {
       "_dom_classes": [],
       "animation_duration": 250,
       "axes": [
        "IPY_MODEL_c19d58eaaa4b4ac3a7055631b044e4e2",
        "IPY_MODEL_fe855b11d69d49038c5c326a28f7f3b4"
       ],
       "layout": "IPY_MODEL_d1ba205f210b4a978d06b585b8f2214c",
       "marks": [
        "IPY_MODEL_004d76dc952f4f97b0588d7fcfa65f11",
        "IPY_MODEL_a980b0b4a0c7492f80469104c02b0053"
       ],
       "max_aspect_ratio": 6,
       "scale_x": "IPY_MODEL_494b6e4c3244410182cf0a450ad76240",
       "scale_y": "IPY_MODEL_49b16f0a9c03434586fb1a96ef0e3d2e"
      }
     },
     "e34d3d67f26e4872a2a441d589b460e5": {
      "model_module": "@jupyter-widgets/controls",
      "model_module_version": "1.4.0",
      "model_name": "VBoxModel",
      "state": {
       "_dom_classes": [
        "widget-interact"
       ],
       "children": [
        "IPY_MODEL_636329c7ad124f4891ff216f6156ff89",
        "IPY_MODEL_113aa47174f34365938829fdf0702310",
        "IPY_MODEL_2b00a0e2a185477abbacab1bc9f325c9"
       ],
       "layout": "IPY_MODEL_ba3d715854d2459381ee096d917bef0b"
      }
     },
     "f29f6c8686c5481d940da029febd8044": {
      "model_module": "@jupyter-widgets/base",
      "model_module_version": "1.1.0",
      "model_name": "LayoutModel",
      "state": {}
     },
     "f3904e860dc04852ab992fb3f2407c91": {
      "model_module": "bqplot",
      "model_module_version": "^0.4.5",
      "model_name": "LinearScaleModel",
      "state": {
       "max": 4,
       "min": -4,
       "stabilized": false
      }
     },
     "fe855b11d69d49038c5c326a28f7f3b4": {
      "model_module": "bqplot",
      "model_module_version": "^0.4.5",
      "model_name": "AxisModel",
      "state": {
       "label": "y",
       "orientation": "vertical",
       "scale": "IPY_MODEL_b9c5d469e2ec468db5d870a46c25154d",
       "side": "left",
       "tick_values": {
        "type": null,
        "values": null
       }
      }
     }
    },
    "version_major": 2,
    "version_minor": 0
   }
  }
 },
 "nbformat": 4,
 "nbformat_minor": 2
}

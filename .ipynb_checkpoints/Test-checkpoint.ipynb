{
 "cells": [
  {
   "cell_type": "code",
   "execution_count": 13,
   "metadata": {},
   "outputs": [
    {
     "data": {
      "application/vnd.jupyter.widget-view+json": {
       "model_id": "90be58b0c0f24bfd87037676b2403da6",
       "version_major": 2,
       "version_minor": 0
      },
      "text/plain": [
       "VBox(children=(interactive(children=(FloatSlider(value=0.0, description='m', max=2.0, min=-2.0, step=0.2), Flo…"
      ]
     },
     "metadata": {},
     "output_type": "display_data"
    }
   ],
   "source": [
    "# nbi:hide_in\n",
    "from ipywidgets import interactive, interact, FloatSlider\n",
    "from ipywidgets.embed import embed_minimal_html\n",
    "import matplotlib.pyplot as plt\n",
    "import numpy as np\n",
    "import nbinteract as nbi\n",
    "\n",
    "options = {\n",
    "    'xlabel': '$x$',\n",
    "    'ylabel': '$y$',\n",
    "    'ylim': (-4, 4),\n",
    "    'xlim': (-4, 4),\n",
    "    'animation_duration': 250,\n",
    "}\n",
    "\n",
    "x = np.linspace(-10, 10, num=10)\n",
    "\n",
    "def f(x, m, b):\n",
    "    return (x, m * x + b)\n",
    "\n",
    "ob = nbi.line(x, f, m=FloatSlider(min=-2.0, max=2.0, step=.2, continuous_update=True), b=FloatSlider(min=-3, max=3, step=0.5, continuous_update=False), options=options)\n",
    "ob"
   ]
  },
  {
   "cell_type": "code",
   "execution_count": null,
   "metadata": {},
   "outputs": [],
   "source": []
  }
 ],
 "metadata": {
  "kernelspec": {
   "display_name": "Python 3",
   "language": "python",
   "name": "python3"
  },
  "language_info": {
   "codemirror_mode": {
    "name": "ipython",
    "version": 3
   },
   "file_extension": ".py",
   "mimetype": "text/x-python",
   "name": "python",
   "nbconvert_exporter": "python",
   "pygments_lexer": "ipython3",
   "version": "3.7.1"
  }
 },
 "nbformat": 4,
 "nbformat_minor": 2
}
